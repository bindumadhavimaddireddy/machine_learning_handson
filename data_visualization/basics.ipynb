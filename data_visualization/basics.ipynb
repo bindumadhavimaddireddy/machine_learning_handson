{
 "cells": [
  {
   "cell_type": "markdown",
   "id": "bae4f7d2-98d9-42eb-be33-151953819f1d",
   "metadata": {},
   "source": [
    "# Intro to Data Visualisation"
   ]
  },
  {
   "cell_type": "markdown",
   "id": "3b64da8e-2238-40ed-bfba-e7d92911e602",
   "metadata": {},
   "source": [
    "## Introduction to Matplotlib and Seaborn"
   ]
  },
  {
   "cell_type": "markdown",
   "id": "85ab5dc6-dabe-426b-b0a4-6dfda3acbd28",
   "metadata": {},
   "source": [
    "### Matplotlib\n",
    "\n",
    "- Core Library that comes up with two functionalities\n",
    "- 1. Control Plotting Area ( Figure )\n",
    "  2. Can also Create Plots\n",
    "- Use whenever we have a task to control the plotting area or figure\n",
    "\n",
    "### Seaborn\n",
    "- Only one functionality - can only create plots\n",
    "- Create plots that are much much better than matplotlib\n",
    "- Comes with amazing function to plot the data, which is harder to achieve using matplotlib\n",
    "- Use to generate the plots using the given data"
   ]
  },
  {
   "cell_type": "code",
   "execution_count": null,
   "id": "44020b1d-aff9-4ee6-8b73-0b55b5aeafed",
   "metadata": {},
   "outputs": [],
   "source": []
  },
  {
   "cell_type": "markdown",
   "id": "2ca5aec9-7fcf-4b4b-8483-76699c59f489",
   "metadata": {},
   "source": [
    "## Various Types of Varaibles"
   ]
  },
  {
   "cell_type": "markdown",
   "id": "2404fd53-9c1f-49fb-9c0b-60f62820d09c",
   "metadata": {},
   "source": [
    "1. Qualitative ( Non numerical )\n",
    "2. Quantitative ( Numerical )\n",
    "\n",
    "\n",
    "### Qualitative Variables\n",
    "1. Ordinal ( Categories follow some kind of order )\n",
    "    Ex: XS, S, M, L, XL\n",
    "\n",
    "2. Nominal ( Categories which doesn't follow any order )\n",
    "    Ex: Gender ( Male, female ) - No comparision or order\n",
    "\n",
    "\n",
    "### Quantitative Variables\n",
    "1. Continuous ( Numerical values that can take infinite values in the given range\n",
    "2. Discrete ( Distinct and can't take any value between two values )\n"
   ]
  },
  {
   "cell_type": "markdown",
   "id": "0f1fa581-715c-49fa-8762-ad45baf63f8e",
   "metadata": {},
   "source": [
    "## Types of Analysis"
   ]
  },
  {
   "cell_type": "markdown",
   "id": "ee771076-8250-4799-82b8-9b2f8f2f6517",
   "metadata": {},
   "source": [
    "1. Univariate Analysis - 1 Variable at a time\n",
    "2. Bivariate Analysis - 2 Variables at a time\n",
    "3. MultiVariate Analysis - 2+ Variables at a time"
   ]
  },
  {
   "cell_type": "markdown",
   "id": "b6211147-e5c3-4517-9450-e002bbeec7a2",
   "metadata": {},
   "source": [
    "### Univariate Analysis\n",
    "\n",
    "1. Categorical (C) - Bar plot, count plot, pie chart\n",
    "2. Numerical (N) - Histogram, Boxplot, KDE Plot/ Density Plot"
   ]
  },
  {
   "cell_type": "markdown",
   "id": "262734dc-db28-490f-a7d5-c3fca4531759",
   "metadata": {},
   "source": [
    "### Bivariate Analysis\n",
    "\n",
    "1. NN - Both are Numerical\n",
    "2. CC - Both are Categorical\n",
    "3. NC/CN - One is numerical, other is categorical"
   ]
  },
  {
   "cell_type": "markdown",
   "id": "e0fac5cf-91d9-4c37-a190-427285b46903",
   "metadata": {},
   "source": [
    "### MultiVariate Analysis\n",
    "\n",
    "1. NNN\n",
    "2. CCC\n",
    "3. NCC\n",
    "4. CNN"
   ]
  },
  {
   "cell_type": "markdown",
   "id": "1670af9f-d0c2-4f1f-8ccb-423da81653cf",
   "metadata": {},
   "source": [
    "## Anatomy of Matplotlib\n",
    "\n",
    "<img src=\"https://d2beiqkhq929f0.cloudfront.net/public_assets/assets/000/019/615/original/image_2022-11-11_112008033.png?1668145811\">"
   ]
  },
  {
   "cell_type": "code",
   "execution_count": null,
   "id": "18960ccd-de7c-4e38-843f-9880b0f4da67",
   "metadata": {},
   "outputs": [],
   "source": []
  }
 ],
 "metadata": {
  "kernelspec": {
   "display_name": "Python 3 (ipykernel)",
   "language": "python",
   "name": "python3"
  },
  "language_info": {
   "codemirror_mode": {
    "name": "ipython",
    "version": 3
   },
   "file_extension": ".py",
   "mimetype": "text/x-python",
   "name": "python",
   "nbconvert_exporter": "python",
   "pygments_lexer": "ipython3",
   "version": "3.12.5"
  }
 },
 "nbformat": 4,
 "nbformat_minor": 5
}
